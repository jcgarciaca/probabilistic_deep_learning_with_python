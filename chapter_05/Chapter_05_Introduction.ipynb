{
  "nbformat": 4,
  "nbformat_minor": 0,
  "metadata": {
    "colab": {
      "name": "Chapter_05: Introduction.ipynb",
      "provenance": [],
      "collapsed_sections": []
    },
    "kernelspec": {
      "name": "python3",
      "display_name": "Python 3"
    }
  },
  "cells": [
    {
      "cell_type": "code",
      "metadata": {
        "id": "lPi4Lz1pLaXO"
      },
      "source": [
        "import tensorflow as tf\n",
        "import tensorflow_probability as tfp"
      ],
      "execution_count": 1,
      "outputs": []
    },
    {
      "cell_type": "markdown",
      "metadata": {
        "id": "UGG8xQ0PN1Qz"
      },
      "source": [
        "## Problem formulation\n",
        "\n",
        "Think, for example, about a situation where a New York taxi driver transports an art dealer to a great art auction that starts in 25 minutes. The art dealer promises a generous tip ($500) if she arrives there in time."
      ]
    },
    {
      "cell_type": "markdown",
      "metadata": {
        "id": "feRHQAT0NBad"
      },
      "source": [
        "Normal distribution\n",
        "`loc = mu` is the mean\n",
        "`scale = sigma` is the std. deviation"
      ]
    },
    {
      "cell_type": "code",
      "metadata": {
        "colab": {
          "base_uri": "https://localhost:8080/"
        },
        "id": "r7yZfZjrLoHG",
        "outputId": "adb3ae48-2d6c-438a-fae9-a69261267e2f"
      },
      "source": [
        "# option 1\n",
        "# μ_1 = 19 min but a high uncertainty (standard deviation of σ_1 = 12 min)\n",
        "mu = 19\n",
        "sigma = 12\n",
        "limit_time = 25\n",
        "dist = tfp.distributions.Normal(loc=mu, scale=sigma)\n",
        "dist.cdf(limit_time)"
      ],
      "execution_count": 3,
      "outputs": [
        {
          "output_type": "execute_result",
          "data": {
            "text/plain": [
              "<tf.Tensor: shape=(), dtype=float32, numpy=0.69146246>"
            ]
          },
          "metadata": {
            "tags": []
          },
          "execution_count": 3
        }
      ]
    },
    {
      "cell_type": "code",
      "metadata": {
        "colab": {
          "base_uri": "https://localhost:8080/"
        },
        "id": "W9YdqO43ODqL",
        "outputId": "a11d06ce-1f6c-43ae-bfbe-3429ddd35ebb"
      },
      "source": [
        "# option 2\n",
        "mu = 22\n",
        "sigma = 2\n",
        "dist = tfp.distributions.Normal(loc=mu, scale=sigma)\n",
        "dist.cdf(limit_time)"
      ],
      "execution_count": 4,
      "outputs": [
        {
          "output_type": "execute_result",
          "data": {
            "text/plain": [
              "<tf.Tensor: shape=(), dtype=float32, numpy=0.9331928>"
            ]
          },
          "metadata": {
            "tags": []
          },
          "execution_count": 4
        }
      ]
    },
    {
      "cell_type": "markdown",
      "metadata": {
        "id": "lzqLVWP0Sy46"
      },
      "source": [
        "## From chapter notebook (nb_ch05_01)"
      ]
    },
    {
      "cell_type": "code",
      "metadata": {
        "colab": {
          "base_uri": "https://localhost:8080/"
        },
        "id": "lBDUiliCONXS",
        "outputId": "660feda9-4c5a-4fe3-973e-7085e4689183"
      },
      "source": [
        "dist = tfp.distributions.Normal(loc=1.0, scale=0.1)\n",
        "print('sample   :', dist.sample(3).numpy()) #Samples 3 numbers\n",
        "print('prob     :',dist.prob((0,1,2)).numpy()) #Calculates the probabilities for positions 0,1,2\n",
        "print('log_prob :',dist.log_prob((0,1,2)).numpy()) #Same as above just log\n",
        "print('cdf      :',dist.cdf((0,1,2)).numpy()) #Calculates the cummulative distributions\n",
        "print('mean     :',dist.mean().numpy()) #Returns the mean of the distribution\n",
        "print('stddev   :',dist.stddev().numpy())"
      ],
      "execution_count": 5,
      "outputs": [
        {
          "output_type": "stream",
          "text": [
            "sample   : [1.1861522 1.0398921 1.0175613]\n",
            "prob     : [7.694609e-22 3.989423e+00 7.694609e-22]\n",
            "log_prob : [-48.616352    1.3836466 -48.616352 ]\n",
            "cdf      : [7.619854e-24 5.000000e-01 1.000000e+00]\n",
            "mean     : 1.0\n",
            "stddev   : 0.1\n"
          ],
          "name": "stdout"
        }
      ]
    },
    {
      "cell_type": "markdown",
      "metadata": {
        "id": "Z8AdexKtTRuA"
      },
      "source": [
        "## Book example"
      ]
    },
    {
      "cell_type": "code",
      "metadata": {
        "colab": {
          "base_uri": "https://localhost:8080/"
        },
        "id": "5zhKAEroTCe5",
        "outputId": "713c557a-129d-41f7-e1c4-51043e36b8c3"
      },
      "source": [
        "d = tfp.distributions.Normal(loc=[3], scale=1.5)\n",
        "x = d.sample(2)\n",
        "px = d.prob(x)\n",
        "print(x)\n",
        "print(px)"
      ],
      "execution_count": 11,
      "outputs": [
        {
          "output_type": "stream",
          "text": [
            "tf.Tensor(\n",
            "[[3.762074 ]\n",
            " [3.3802285]], shape=(2, 1), dtype=float32)\n",
            "tf.Tensor(\n",
            "[[0.23375991]\n",
            " [0.25755265]], shape=(2, 1), dtype=float32)\n"
          ],
          "name": "stdout"
        }
      ]
    },
    {
      "cell_type": "code",
      "metadata": {
        "id": "ktPQUo9nUbiw"
      },
      "source": [
        ""
      ],
      "execution_count": null,
      "outputs": []
    }
  ]
}